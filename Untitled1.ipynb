{
 "cells": [
  {
   "cell_type": "code",
   "execution_count": 1,
   "id": "8b958e7c",
   "metadata": {},
   "outputs": [],
   "source": [
    "# Import dependencies\n",
    "import json\n",
    "import pandas as pd\n",
    "import numpy as np\n",
    "import re"
   ]
  },
  {
   "cell_type": "code",
   "execution_count": 2,
   "id": "8a92b6da",
   "metadata": {},
   "outputs": [],
   "source": [
    "# Create path for data resources\n",
    "file_dir = \"../Movies-ETL/data\""
   ]
  },
  {
   "cell_type": "code",
   "execution_count": 3,
   "id": "76b37ec0",
   "metadata": {},
   "outputs": [],
   "source": [
    "# Read raw JSON data file into pandas\n",
    "with open(f'{file_dir}/wikipedia-movies.json', mode='r') as file:\n",
    "    wiki_movies_raw = json.load(file)"
   ]
  },
  {
   "cell_type": "code",
   "execution_count": 4,
   "id": "d67fc3f4",
   "metadata": {},
   "outputs": [],
   "source": [
    "# Read raw Kaggle data into pandas\n",
    "kaggle_metadata = pd.read_csv(f'{file_dir}/movies_metadata.csv', low_memory=False)\n",
    "ratings = pd.read_csv(f'{file_dir}/ratings.csv')"
   ]
  },
  {
   "cell_type": "code",
   "execution_count": 5,
   "id": "0e6e17e4",
   "metadata": {},
   "outputs": [],
   "source": [
    "# Trim down initial JSON movie list to clean data\n",
    "wiki_movies = [movie for movie in wiki_movies_raw\n",
    "               if ('Director' in movie or 'Directed by' in movie)\n",
    "                   and 'imdb_link' in movie\n",
    "                   and 'No. of episodes' not in movie]\n",
    "wiki_movies_df = pd.DataFrame(wiki_movies)"
   ]
  },
  {
   "cell_type": "code",
   "execution_count": 6,
   "id": "ee81ade2",
   "metadata": {},
   "outputs": [],
   "source": [
    "# Define function to clean individual movies in list\n",
    "def clean_movie(movie):\n",
    "    movie = dict(movie) #create a non-destructive copy\n",
    "    alt_titles = {}\n",
    "    # combine alternate titles into one list\n",
    "    for key in ['Also known as','Arabic','Cantonese','Chinese','French',\n",
    "                'Hangul','Hebrew','Hepburn','Japanese','Literally',\n",
    "                'Mandarin','McCune-Reischauer','Original title','Polish',\n",
    "                'Revised Romanization','Romanized','Russian',\n",
    "                'Simplified','Traditional','Yiddish']:\n",
    "        if key in movie:\n",
    "            alt_titles[key] = movie[key]\n",
    "            movie.pop(key)\n",
    "    if len(alt_titles) > 0:\n",
    "        movie['alt_titles'] = alt_titles\n",
    "\n",
    "    # merge column names\n",
    "    def change_column_name(old_name, new_name):\n",
    "        if old_name in movie:\n",
    "            movie[new_name] = movie.pop(old_name)\n",
    "    change_column_name('Adaptation by', 'Writer(s)')\n",
    "    change_column_name('Country of origin', 'Country')\n",
    "    change_column_name('Directed by', 'Director')\n",
    "    change_column_name('Distributed by', 'Distributor')\n",
    "    change_column_name('Edited by', 'Editor(s)')\n",
    "    change_column_name('Length', 'Running time')\n",
    "    change_column_name('Original release', 'Release date')\n",
    "    change_column_name('Music by', 'Composer(s)')\n",
    "    change_column_name('Produced by', 'Producer(s)')\n",
    "    change_column_name('Producer', 'Producer(s)')\n",
    "    change_column_name('Productioncompanies ', 'Production company(s)')\n",
    "    change_column_name('Productioncompany ', 'Production company(s)')\n",
    "    change_column_name('Released', 'Release Date')\n",
    "    change_column_name('Release Date', 'Release date')\n",
    "    change_column_name('Screen story by', 'Writer(s)')\n",
    "    change_column_name('Screenplay by', 'Writer(s)')\n",
    "    change_column_name('Story by', 'Writer(s)')\n",
    "    change_column_name('Theme music composer', 'Composer(s)')\n",
    "    change_column_name('Written by', 'Writer(s)')\n",
    "\n",
    "    return movie"
   ]
  },
  {
   "cell_type": "code",
   "execution_count": 7,
   "id": "c32cd48e",
   "metadata": {},
   "outputs": [],
   "source": [
    "# Make a list of cleaned movies\n",
    "clean_movies = [clean_movie(movie) for movie in wiki_movies]\n",
    "# Create a DataFrame from the clean_movies list\n",
    "wiki_movies_df = pd.DataFrame(clean_movies)"
   ]
  },
  {
   "cell_type": "code",
   "execution_count": 8,
   "id": "8be7ac44",
   "metadata": {
    "scrolled": true
   },
   "outputs": [
    {
     "data": {
      "text/plain": [
       "['Animation by',\n",
       " 'Audio format',\n",
       " 'Based on',\n",
       " 'Box office',\n",
       " 'Budget',\n",
       " 'Cinematography',\n",
       " 'Color process',\n",
       " 'Composer(s)',\n",
       " 'Country',\n",
       " 'Created by',\n",
       " 'Director',\n",
       " 'Distributor',\n",
       " 'Editor(s)',\n",
       " 'Executive producer(s)',\n",
       " 'Followed by',\n",
       " 'Genre',\n",
       " 'Label',\n",
       " 'Language',\n",
       " 'McCune–Reischauer',\n",
       " 'Narrated by',\n",
       " 'Original language(s)',\n",
       " 'Original network',\n",
       " 'Picture format',\n",
       " 'Preceded by',\n",
       " 'Producer(s)',\n",
       " 'Production company(s)',\n",
       " 'Production location(s)',\n",
       " 'Recorded',\n",
       " 'Release date',\n",
       " 'Running time',\n",
       " 'Starring',\n",
       " 'Suggested by',\n",
       " 'Venue',\n",
       " 'Voices of',\n",
       " 'Writer(s)',\n",
       " 'alt_titles',\n",
       " 'imdb_link',\n",
       " 'title',\n",
       " 'url',\n",
       " 'year']"
      ]
     },
     "execution_count": 8,
     "metadata": {},
     "output_type": "execute_result"
    }
   ],
   "source": [
    "sorted(wiki_movies_df.columns.tolist())"
   ]
  },
  {
   "cell_type": "code",
   "execution_count": 9,
   "id": "9c73564b",
   "metadata": {},
   "outputs": [
    {
     "name": "stdout",
     "output_type": "stream",
     "text": [
      "7076\n",
      "7033\n"
     ]
    }
   ],
   "source": [
    "# Extract the IMDB ID tag from each row\n",
    "wiki_movies_df['imdb_id'] = wiki_movies_df['imdb_link'].str.extract(r'(tt\\d{7})')\n",
    "# Check length of DataFrame\n",
    "print(len(wiki_movies_df))\n",
    "# Drop duplicate rows from the DataFrame that contain the same IMDB ID \n",
    "wiki_movies_df.drop_duplicates(subset='imdb_id', inplace=True)\n",
    "# Check length of DataFrame\n",
    "print(len(wiki_movies_df))"
   ]
  },
  {
   "cell_type": "code",
   "execution_count": 10,
   "id": "31e8d963",
   "metadata": {},
   "outputs": [],
   "source": [
    "wiki_columns_to_keep = [column for column in wiki_movies_df.columns if wiki_movies_df[column].isnull().sum() < len(wiki_movies_df) * 0.9]\n",
    "wiki_movies_df = wiki_movies_df[wiki_columns_to_keep]"
   ]
  },
  {
   "cell_type": "code",
   "execution_count": 23,
   "id": "7cdf0f1e",
   "metadata": {
    "scrolled": false
   },
   "outputs": [
    {
     "data": {
      "text/html": [
       "<div>\n",
       "<style scoped>\n",
       "    .dataframe tbody tr th:only-of-type {\n",
       "        vertical-align: middle;\n",
       "    }\n",
       "\n",
       "    .dataframe tbody tr th {\n",
       "        vertical-align: top;\n",
       "    }\n",
       "\n",
       "    .dataframe thead th {\n",
       "        text-align: right;\n",
       "    }\n",
       "</style>\n",
       "<table border=\"1\" class=\"dataframe\">\n",
       "  <thead>\n",
       "    <tr style=\"text-align: right;\">\n",
       "      <th></th>\n",
       "      <th>url</th>\n",
       "      <th>year</th>\n",
       "      <th>imdb_link</th>\n",
       "      <th>title</th>\n",
       "      <th>Based on</th>\n",
       "      <th>Starring</th>\n",
       "      <th>Cinematography</th>\n",
       "      <th>Release date</th>\n",
       "      <th>Running time</th>\n",
       "      <th>Country</th>\n",
       "      <th>...</th>\n",
       "      <th>Budget</th>\n",
       "      <th>Director</th>\n",
       "      <th>Distributor</th>\n",
       "      <th>Editor(s)</th>\n",
       "      <th>Composer(s)</th>\n",
       "      <th>Producer(s)</th>\n",
       "      <th>Production company(s)</th>\n",
       "      <th>Writer(s)</th>\n",
       "      <th>imdb_id</th>\n",
       "      <th>box_office</th>\n",
       "    </tr>\n",
       "  </thead>\n",
       "  <tbody>\n",
       "    <tr>\n",
       "      <th>1850</th>\n",
       "      <td>https://en.wikipedia.org/wiki/Common_Bonds</td>\n",
       "      <td>1997</td>\n",
       "      <td>https://www.imdb.com/title/tt0138376/</td>\n",
       "      <td>Common Bonds</td>\n",
       "      <td>NaN</td>\n",
       "      <td>[Kate McKinney, Charles Rome Smith, Ike Gingrich]</td>\n",
       "      <td>Karen Chow-Del Rio</td>\n",
       "      <td>[February 10, 1997, (, 1997-02-10, ), [1]]</td>\n",
       "      <td>80 minutes</td>\n",
       "      <td>United States</td>\n",
       "      <td>...</td>\n",
       "      <td>NaN</td>\n",
       "      <td>Antonio Manriquez</td>\n",
       "      <td>wam!/encore</td>\n",
       "      <td>Elizabeth Eiben</td>\n",
       "      <td>Michael W. Katz</td>\n",
       "      <td>[Josh Gray-Emmer, Dan Aeberhard, Raina Roessle...</td>\n",
       "      <td>NaN</td>\n",
       "      <td>[Kate McKinney, Antonio Manriquez, Aaron Walla...</td>\n",
       "      <td>tt0138376</td>\n",
       "      <td>NaN</td>\n",
       "    </tr>\n",
       "    <tr>\n",
       "      <th>5232</th>\n",
       "      <td>https://en.wikipedia.org/wiki/You_Again</td>\n",
       "      <td>2010</td>\n",
       "      <td>https://www.imdb.com/title/tt1414382/</td>\n",
       "      <td>You Again</td>\n",
       "      <td>NaN</td>\n",
       "      <td>[Kristen Bell, Jamie Lee Curtis, Sigourney Wea...</td>\n",
       "      <td>David Hennings</td>\n",
       "      <td>[September 24, 2010, (, 2010-09-24, )]</td>\n",
       "      <td>105 minutes</td>\n",
       "      <td>United States</td>\n",
       "      <td>...</td>\n",
       "      <td>$20 million</td>\n",
       "      <td>Andy Fickman</td>\n",
       "      <td>[Walt Disney Studios, Motion Pictures]</td>\n",
       "      <td>David Rennie</td>\n",
       "      <td>[Cliff Eidelman, Nathan Wang]</td>\n",
       "      <td>[Andy Fickman, John J. Strauss, Eric Tannenbaum]</td>\n",
       "      <td>[Touchstone Pictures, Frontier Pictures]</td>\n",
       "      <td>Moe Jelline</td>\n",
       "      <td>tt1414382</td>\n",
       "      <td>32000000.0</td>\n",
       "    </tr>\n",
       "    <tr>\n",
       "      <th>4281</th>\n",
       "      <td>https://en.wikipedia.org/wiki/Underworld:_Evol...</td>\n",
       "      <td>2006</td>\n",
       "      <td>https://www.imdb.com/title/tt0401855/</td>\n",
       "      <td>Underworld: Evolution</td>\n",
       "      <td>[Characters created, by, Kevin Grevioux, Len W...</td>\n",
       "      <td>[Kate Beckinsale, Scott Speedman, Tony Curran,...</td>\n",
       "      <td>Simon Duggan</td>\n",
       "      <td>[January 20, 2006, (, 2006-01-20, )]</td>\n",
       "      <td>106 minutes</td>\n",
       "      <td>United States</td>\n",
       "      <td>...</td>\n",
       "      <td>$45 million</td>\n",
       "      <td>Len Wiseman</td>\n",
       "      <td>Sony Pictures Releasing</td>\n",
       "      <td>Nicolas Del Toth</td>\n",
       "      <td>Marco Beltrami</td>\n",
       "      <td>[Tom Rosenberg, Gary Lucchesi, David Coatswort...</td>\n",
       "      <td>Lakeshore Entertainment</td>\n",
       "      <td>[Len Wiseman, Danny McBride]</td>\n",
       "      <td>tt0401855</td>\n",
       "      <td>113400000.0</td>\n",
       "    </tr>\n",
       "  </tbody>\n",
       "</table>\n",
       "<p>3 rows × 21 columns</p>\n",
       "</div>"
      ],
      "text/plain": [
       "                                                    url  year  \\\n",
       "1850         https://en.wikipedia.org/wiki/Common_Bonds  1997   \n",
       "5232            https://en.wikipedia.org/wiki/You_Again  2010   \n",
       "4281  https://en.wikipedia.org/wiki/Underworld:_Evol...  2006   \n",
       "\n",
       "                                  imdb_link                  title  \\\n",
       "1850  https://www.imdb.com/title/tt0138376/           Common Bonds   \n",
       "5232  https://www.imdb.com/title/tt1414382/              You Again   \n",
       "4281  https://www.imdb.com/title/tt0401855/  Underworld: Evolution   \n",
       "\n",
       "                                               Based on  \\\n",
       "1850                                                NaN   \n",
       "5232                                                NaN   \n",
       "4281  [Characters created, by, Kevin Grevioux, Len W...   \n",
       "\n",
       "                                               Starring      Cinematography  \\\n",
       "1850  [Kate McKinney, Charles Rome Smith, Ike Gingrich]  Karen Chow-Del Rio   \n",
       "5232  [Kristen Bell, Jamie Lee Curtis, Sigourney Wea...      David Hennings   \n",
       "4281  [Kate Beckinsale, Scott Speedman, Tony Curran,...        Simon Duggan   \n",
       "\n",
       "                                    Release date Running time        Country  \\\n",
       "1850  [February 10, 1997, (, 1997-02-10, ), [1]]   80 minutes  United States   \n",
       "5232      [September 24, 2010, (, 2010-09-24, )]  105 minutes  United States   \n",
       "4281        [January 20, 2006, (, 2006-01-20, )]  106 minutes  United States   \n",
       "\n",
       "      ...       Budget           Director  \\\n",
       "1850  ...          NaN  Antonio Manriquez   \n",
       "5232  ...  $20 million       Andy Fickman   \n",
       "4281  ...  $45 million        Len Wiseman   \n",
       "\n",
       "                                 Distributor         Editor(s)  \\\n",
       "1850                             wam!/encore   Elizabeth Eiben   \n",
       "5232  [Walt Disney Studios, Motion Pictures]      David Rennie   \n",
       "4281                 Sony Pictures Releasing  Nicolas Del Toth   \n",
       "\n",
       "                        Composer(s)  \\\n",
       "1850                Michael W. Katz   \n",
       "5232  [Cliff Eidelman, Nathan Wang]   \n",
       "4281                 Marco Beltrami   \n",
       "\n",
       "                                            Producer(s)  \\\n",
       "1850  [Josh Gray-Emmer, Dan Aeberhard, Raina Roessle...   \n",
       "5232   [Andy Fickman, John J. Strauss, Eric Tannenbaum]   \n",
       "4281  [Tom Rosenberg, Gary Lucchesi, David Coatswort...   \n",
       "\n",
       "                         Production company(s)  \\\n",
       "1850                                       NaN   \n",
       "5232  [Touchstone Pictures, Frontier Pictures]   \n",
       "4281                   Lakeshore Entertainment   \n",
       "\n",
       "                                              Writer(s)    imdb_id  \\\n",
       "1850  [Kate McKinney, Antonio Manriquez, Aaron Walla...  tt0138376   \n",
       "5232                                        Moe Jelline  tt1414382   \n",
       "4281                       [Len Wiseman, Danny McBride]  tt0401855   \n",
       "\n",
       "       box_office  \n",
       "1850          NaN  \n",
       "5232   32000000.0  \n",
       "4281  113400000.0  \n",
       "\n",
       "[3 rows x 21 columns]"
      ]
     },
     "execution_count": 23,
     "metadata": {},
     "output_type": "execute_result"
    }
   ],
   "source": [
    "wiki_movies_df.sample(3)"
   ]
  },
  {
   "cell_type": "code",
   "execution_count": 15,
   "id": "49e5c720",
   "metadata": {},
   "outputs": [
    {
     "name": "stdout",
     "output_type": "stream",
     "text": [
      "7033\n",
      "5485\n"
     ]
    }
   ],
   "source": [
    "# Check length of DataFrame\n",
    "print(len(wiki_movies_df))\n",
    "# Drop duplicate rows from the DataFrame that contain the same IMDB ID \n",
    "box_office = wiki_movies_df['Box office'].dropna()\n",
    "# Check length of DataFrame\n",
    "print(len(box_office))"
   ]
  },
  {
   "cell_type": "code",
   "execution_count": 16,
   "id": "368cfea7",
   "metadata": {},
   "outputs": [],
   "source": [
    "# Create a function to clean up [Box office] data\n",
    "box_office = box_office.str.replace(r'\\$.*[-—–](?![a-z])', '$', regex=True)"
   ]
  },
  {
   "cell_type": "code",
   "execution_count": 17,
   "id": "974c7c67",
   "metadata": {},
   "outputs": [
    {
     "data": {
      "text/plain": [
       "3833"
      ]
     },
     "execution_count": 17,
     "metadata": {},
     "output_type": "execute_result"
    }
   ],
   "source": [
    "form_one = r'\\$\\s*\\d+\\.?\\d*\\s*[mb]illi?on'\n",
    "form_two = r'\\$\\s*\\d{1,3}(?:[,\\.]\\d{3})+'\n",
    "box_office.str.contains(form_one, flags=re.IGNORECASE, na=False).sum()"
   ]
  },
  {
   "cell_type": "code",
   "execution_count": 18,
   "id": "fa5a825e",
   "metadata": {},
   "outputs": [
    {
     "data": {
      "text/plain": [
       "1528"
      ]
     },
     "execution_count": 18,
     "metadata": {},
     "output_type": "execute_result"
    }
   ],
   "source": [
    "box_office.str.contains(form_two, flags=re.IGNORECASE, na=False).sum()"
   ]
  },
  {
   "cell_type": "code",
   "execution_count": 19,
   "id": "e610f4b2",
   "metadata": {},
   "outputs": [
    {
     "data": {
      "text/plain": [
       "34      NaN\n",
       "54      NaN\n",
       "74      NaN\n",
       "126     NaN\n",
       "130     NaN\n",
       "       ... \n",
       "6980    NaN\n",
       "6994    NaN\n",
       "6995    NaN\n",
       "7015    NaN\n",
       "7048    NaN\n",
       "Name: Box office, Length: 154, dtype: object"
      ]
     },
     "execution_count": 19,
     "metadata": {},
     "output_type": "execute_result"
    }
   ],
   "source": [
    "matches_form_one = box_office.str.contains(form_one, flags=re.IGNORECASE, na=False)\n",
    "matches_form_two = box_office.str.contains(form_two, flags=re.IGNORECASE, na=False)\n",
    "box_office[~matches_form_one & ~matches_form_two]"
   ]
  },
  {
   "cell_type": "code",
   "execution_count": 20,
   "id": "b9a67773",
   "metadata": {},
   "outputs": [],
   "source": [
    "def parse_dollars(s):\n",
    "    # if s is not a string, return NaN\n",
    "    if type(s) != str:\n",
    "        return np.nan\n",
    "\n",
    "    # if input is of the form $###.# million\n",
    "    if re.match(r'\\$\\s*\\d+\\.?\\d*\\s*milli?on', s, flags=re.IGNORECASE):\n",
    "\n",
    "        # remove dollar sign and \" million\"\n",
    "        s = re.sub('\\$|\\s|[a-zA-Z]','', s)\n",
    "\n",
    "        # convert to float and multiply by a million\n",
    "        value = float(s) * 10**6\n",
    "\n",
    "        # return value\n",
    "        return value\n",
    "\n",
    "    # if input is of the form $###.# billion\n",
    "    elif re.match(r'\\$\\s*\\d+\\.?\\d*\\s*billi?on', s, flags=re.IGNORECASE):\n",
    "\n",
    "        # remove dollar sign and \" billion\"\n",
    "        s = re.sub('\\$|\\s|[a-zA-Z]','', s)\n",
    "\n",
    "        # convert to float and multiply by a billion\n",
    "        value = float(s) * 10**9\n",
    "\n",
    "        # return value\n",
    "        return value\n",
    "\n",
    "    # if input is of the form $###,###,###\n",
    "    elif re.match(r'\\$\\s*\\d{1,3}(?:[,\\.]\\d{3})+(?!\\s[mb]illion)', s, flags=re.IGNORECASE):\n",
    "\n",
    "        # remove dollar sign and commas\n",
    "        s = re.sub('\\$|,','', s)\n",
    "\n",
    "        # convert to float\n",
    "        value = float(s)\n",
    "\n",
    "        # return value\n",
    "        return value\n",
    "\n",
    "    # otherwise, return NaN\n",
    "    else:\n",
    "        return np.nan"
   ]
  },
  {
   "cell_type": "code",
   "execution_count": 21,
   "id": "a382ff17",
   "metadata": {},
   "outputs": [],
   "source": [
    "wiki_movies_df['box_office'] = box_office.str.extract(f'({form_one}|{form_two})', flags=re.IGNORECASE)[0].apply(parse_dollars)\n",
    "wiki_movies_df.drop('Box office', axis=1, inplace=True)"
   ]
  },
  {
   "cell_type": "code",
   "execution_count": 22,
   "id": "f76bbcf6",
   "metadata": {
    "scrolled": true
   },
   "outputs": [
    {
     "data": {
      "text/plain": [
       "url                       object\n",
       "year                       int64\n",
       "imdb_link                 object\n",
       "title                     object\n",
       "Based on                  object\n",
       "Starring                  object\n",
       "Cinematography            object\n",
       "Release date              object\n",
       "Running time              object\n",
       "Country                   object\n",
       "Language                  object\n",
       "Budget                    object\n",
       "Director                  object\n",
       "Distributor               object\n",
       "Editor(s)                 object\n",
       "Composer(s)               object\n",
       "Producer(s)               object\n",
       "Production company(s)     object\n",
       "Writer(s)                 object\n",
       "imdb_id                   object\n",
       "box_office               float64\n",
       "dtype: object"
      ]
     },
     "execution_count": 22,
     "metadata": {},
     "output_type": "execute_result"
    }
   ],
   "source": [
    "wiki_movies_df.dtypes"
   ]
  },
  {
   "cell_type": "code",
   "execution_count": null,
   "id": "91559037",
   "metadata": {},
   "outputs": [],
   "source": []
  }
 ],
 "metadata": {
  "kernelspec": {
   "display_name": "Python 3 (ipykernel)",
   "language": "python",
   "name": "python3"
  },
  "language_info": {
   "codemirror_mode": {
    "name": "ipython",
    "version": 3
   },
   "file_extension": ".py",
   "mimetype": "text/x-python",
   "name": "python",
   "nbconvert_exporter": "python",
   "pygments_lexer": "ipython3",
   "version": "3.9.12"
  }
 },
 "nbformat": 4,
 "nbformat_minor": 5
}
