{
 "cells": [
  {
   "cell_type": "code",
   "execution_count": 17,
   "id": "7058d4bc",
   "metadata": {},
   "outputs": [],
   "source": [
    "# Import dependencies\n",
    "import json\n",
    "import pandas as pd\n",
    "import numpy as np\n",
    "import re"
   ]
  },
  {
   "cell_type": "code",
   "execution_count": 2,
   "id": "f0d64691",
   "metadata": {},
   "outputs": [],
   "source": [
    "# Create path for data resources\n",
    "file_dir = \"../Movies-ETL/data\""
   ]
  },
  {
   "cell_type": "code",
   "execution_count": 3,
   "id": "f07e453a",
   "metadata": {},
   "outputs": [],
   "source": [
    "# Read raw JSON data file into pandas\n",
    "with open(f'{file_dir}/wikipedia-movies.json', mode='r') as file:\n",
    "    wiki_movies_raw = json.load(file)"
   ]
  },
  {
   "cell_type": "code",
   "execution_count": 4,
   "id": "dde3d538",
   "metadata": {},
   "outputs": [],
   "source": [
    "# Read raw Kaggle data into pandas\n",
    "kaggle_metadata = pd.read_csv(f'{file_dir}/movies_metadata.csv', low_memory=False)\n",
    "ratings = pd.read_csv(f'{file_dir}/ratings.csv')"
   ]
  },
  {
   "cell_type": "code",
   "execution_count": 5,
   "id": "37b3bb57",
   "metadata": {},
   "outputs": [],
   "source": [
    "# Trim down initial JSON movie list to clean data\n",
    "wiki_movies = [movie for movie in wiki_movies_raw\n",
    "               if ('Director' in movie or 'Directed by' in movie)\n",
    "                   and 'imdb_link' in movie\n",
    "                   and 'No. of episodes' not in movie]\n",
    "wiki_movies_df = pd.DataFrame(wiki_movies)"
   ]
  },
  {
   "cell_type": "code",
   "execution_count": 6,
   "id": "b8fa1b51",
   "metadata": {},
   "outputs": [],
   "source": [
    "# Define function to clean individual movies in list\n",
    "def clean_movie(movie):\n",
    "    movie = dict(movie) #create a non-destructive copy\n",
    "    alt_titles = {}\n",
    "    # combine alternate titles into one list\n",
    "    for key in ['Also known as','Arabic','Cantonese','Chinese','French',\n",
    "                'Hangul','Hebrew','Hepburn','Japanese','Literally',\n",
    "                'Mandarin','McCune-Reischauer','Original title','Polish',\n",
    "                'Revised Romanization','Romanized','Russian',\n",
    "                'Simplified','Traditional','Yiddish']:\n",
    "        if key in movie:\n",
    "            alt_titles[key] = movie[key]\n",
    "            movie.pop(key)\n",
    "    if len(alt_titles) > 0:\n",
    "        movie['alt_titles'] = alt_titles\n",
    "\n",
    "    # merge column names\n",
    "    def change_column_name(old_name, new_name):\n",
    "        if old_name in movie:\n",
    "            movie[new_name] = movie.pop(old_name)\n",
    "    change_column_name('Adaptation by', 'Writer(s)')\n",
    "    change_column_name('Country of origin', 'Country')\n",
    "    change_column_name('Directed by', 'Director')\n",
    "    change_column_name('Distributed by', 'Distributor')\n",
    "    change_column_name('Edited by', 'Editor(s)')\n",
    "    change_column_name('Length', 'Running time')\n",
    "    change_column_name('Original release', 'Release date')\n",
    "    change_column_name('Music by', 'Composer(s)')\n",
    "    change_column_name('Produced by', 'Producer(s)')\n",
    "    change_column_name('Producer', 'Producer(s)')\n",
    "    change_column_name('Productioncompanies ', 'Production company(s)')\n",
    "    change_column_name('Productioncompany ', 'Production company(s)')\n",
    "    change_column_name('Released', 'Release Date')\n",
    "    change_column_name('Release Date', 'Release date')\n",
    "    change_column_name('Screen story by', 'Writer(s)')\n",
    "    change_column_name('Screenplay by', 'Writer(s)')\n",
    "    change_column_name('Story by', 'Writer(s)')\n",
    "    change_column_name('Theme music composer', 'Composer(s)')\n",
    "    change_column_name('Written by', 'Writer(s)')\n",
    "\n",
    "    return movie"
   ]
  },
  {
   "cell_type": "code",
   "execution_count": 7,
   "id": "8b43a5e4",
   "metadata": {},
   "outputs": [],
   "source": [
    "# Make a list of cleaned movies\n",
    "clean_movies = [clean_movie(movie) for movie in wiki_movies]\n",
    "# Create a DataFrame from the clean_movies list\n",
    "wiki_movies_df = pd.DataFrame(clean_movies)"
   ]
  },
  {
   "cell_type": "code",
   "execution_count": 8,
   "id": "7cc4034d",
   "metadata": {
    "scrolled": true
   },
   "outputs": [
    {
     "data": {
      "text/plain": [
       "['Animation by',\n",
       " 'Audio format',\n",
       " 'Based on',\n",
       " 'Box office',\n",
       " 'Budget',\n",
       " 'Cinematography',\n",
       " 'Color process',\n",
       " 'Composer(s)',\n",
       " 'Country',\n",
       " 'Created by',\n",
       " 'Director',\n",
       " 'Distributor',\n",
       " 'Editor(s)',\n",
       " 'Executive producer(s)',\n",
       " 'Followed by',\n",
       " 'Genre',\n",
       " 'Label',\n",
       " 'Language',\n",
       " 'McCune–Reischauer',\n",
       " 'Narrated by',\n",
       " 'Original language(s)',\n",
       " 'Original network',\n",
       " 'Picture format',\n",
       " 'Preceded by',\n",
       " 'Producer(s)',\n",
       " 'Production company(s)',\n",
       " 'Production location(s)',\n",
       " 'Recorded',\n",
       " 'Release date',\n",
       " 'Running time',\n",
       " 'Starring',\n",
       " 'Suggested by',\n",
       " 'Venue',\n",
       " 'Voices of',\n",
       " 'Writer(s)',\n",
       " 'alt_titles',\n",
       " 'imdb_link',\n",
       " 'title',\n",
       " 'url',\n",
       " 'year']"
      ]
     },
     "execution_count": 8,
     "metadata": {},
     "output_type": "execute_result"
    }
   ],
   "source": [
    "sorted(wiki_movies_df.columns.tolist())"
   ]
  },
  {
   "cell_type": "code",
   "execution_count": 9,
   "id": "056a40ed",
   "metadata": {},
   "outputs": [
    {
     "name": "stdout",
     "output_type": "stream",
     "text": [
      "7076\n",
      "7033\n"
     ]
    }
   ],
   "source": [
    "# Extract the IMDB ID tag from each row\n",
    "wiki_movies_df['imdb_id'] = wiki_movies_df['imdb_link'].str.extract(r'(tt\\d{7})')\n",
    "# Check length of DataFrame\n",
    "print(len(wiki_movies_df))\n",
    "# Drop duplicate rows from the DataFrame that contain the same IMDB ID \n",
    "wiki_movies_df.drop_duplicates(subset='imdb_id', inplace=True)\n",
    "# Check length of DataFrame\n",
    "print(len(wiki_movies_df))"
   ]
  },
  {
   "cell_type": "code",
   "execution_count": 10,
   "id": "32ec759a",
   "metadata": {},
   "outputs": [],
   "source": [
    "wiki_columns_to_keep = [column for column in wiki_movies_df.columns if wiki_movies_df[column].isnull().sum() < len(wiki_movies_df) * 0.9]\n",
    "wiki_movies_df = wiki_movies_df[wiki_columns_to_keep]"
   ]
  },
  {
   "cell_type": "code",
   "execution_count": 11,
   "id": "12a30e31",
   "metadata": {
    "scrolled": true
   },
   "outputs": [
    {
     "data": {
      "text/html": [
       "<div>\n",
       "<style scoped>\n",
       "    .dataframe tbody tr th:only-of-type {\n",
       "        vertical-align: middle;\n",
       "    }\n",
       "\n",
       "    .dataframe tbody tr th {\n",
       "        vertical-align: top;\n",
       "    }\n",
       "\n",
       "    .dataframe thead th {\n",
       "        text-align: right;\n",
       "    }\n",
       "</style>\n",
       "<table border=\"1\" class=\"dataframe\">\n",
       "  <thead>\n",
       "    <tr style=\"text-align: right;\">\n",
       "      <th></th>\n",
       "      <th>url</th>\n",
       "      <th>year</th>\n",
       "      <th>imdb_link</th>\n",
       "      <th>title</th>\n",
       "      <th>Based on</th>\n",
       "      <th>Starring</th>\n",
       "      <th>Cinematography</th>\n",
       "      <th>Release date</th>\n",
       "      <th>Running time</th>\n",
       "      <th>Country</th>\n",
       "      <th>...</th>\n",
       "      <th>Budget</th>\n",
       "      <th>Box office</th>\n",
       "      <th>Director</th>\n",
       "      <th>Distributor</th>\n",
       "      <th>Editor(s)</th>\n",
       "      <th>Composer(s)</th>\n",
       "      <th>Producer(s)</th>\n",
       "      <th>Production company(s)</th>\n",
       "      <th>Writer(s)</th>\n",
       "      <th>imdb_id</th>\n",
       "    </tr>\n",
       "  </thead>\n",
       "  <tbody>\n",
       "    <tr>\n",
       "      <th>5391</th>\n",
       "      <td>https://en.wikipedia.org/wiki/Season_of_the_Wi...</td>\n",
       "      <td>2011</td>\n",
       "      <td>https://www.imdb.com/title/tt0479997/</td>\n",
       "      <td>Season of the Witch</td>\n",
       "      <td>NaN</td>\n",
       "      <td>[Nicolas Cage, Ron Perlman, Robert Sheehan, Cl...</td>\n",
       "      <td>Amir Mokri</td>\n",
       "      <td>[January 4, 2011, (, 2011-01-04, ), (New York ...</td>\n",
       "      <td>98 minutes</td>\n",
       "      <td>United States</td>\n",
       "      <td>...</td>\n",
       "      <td>$40 million</td>\n",
       "      <td>$91.6 million</td>\n",
       "      <td>Dominic Sena</td>\n",
       "      <td>[Lionsgate, (original), Rogue, (through, Relat...</td>\n",
       "      <td>[Mark Helfrich, Dan Zimmerman]</td>\n",
       "      <td>Atli Örvarsson</td>\n",
       "      <td>[Alex Gartner, Charles Roven]</td>\n",
       "      <td>Atlas Entertainment</td>\n",
       "      <td>Bragi F. Schut</td>\n",
       "      <td>tt0479997</td>\n",
       "    </tr>\n",
       "    <tr>\n",
       "      <th>1189</th>\n",
       "      <td>https://en.wikipedia.org/wiki/Carnosaur_2</td>\n",
       "      <td>1995</td>\n",
       "      <td>https://www.imdb.com/title/tt0112634/</td>\n",
       "      <td>Carnosaur 2</td>\n",
       "      <td>NaN</td>\n",
       "      <td>[John Savage, Cliff De Young]</td>\n",
       "      <td>John B. Aronson</td>\n",
       "      <td>[February 1995, (, 1995-02, )]</td>\n",
       "      <td>83 minutes</td>\n",
       "      <td>United States</td>\n",
       "      <td>...</td>\n",
       "      <td>NaN</td>\n",
       "      <td>NaN</td>\n",
       "      <td>Louis Morneau</td>\n",
       "      <td>New Horizon Picture Corp</td>\n",
       "      <td>[Roderick Davis, Lorne Morris]</td>\n",
       "      <td>Ed Tomney</td>\n",
       "      <td>Roger Corman</td>\n",
       "      <td>NaN</td>\n",
       "      <td>Michael Palmer</td>\n",
       "      <td>tt0112634</td>\n",
       "    </tr>\n",
       "    <tr>\n",
       "      <th>1678</th>\n",
       "      <td>https://en.wikipedia.org/wiki/Pandora%27s_Clock</td>\n",
       "      <td>1996</td>\n",
       "      <td>https://www.imdb.com/title/tt0115309/</td>\n",
       "      <td>Pandora's Clock(Doomsday Virus)</td>\n",
       "      <td>[Pandora's Clock, by, John J. Nance]</td>\n",
       "      <td>[Richard Dean Anderson, Stephen Root, Jane Lee...</td>\n",
       "      <td>NaN</td>\n",
       "      <td>[November 10, 1996 -, November 11, 1996]</td>\n",
       "      <td>176 mins.</td>\n",
       "      <td>United States</td>\n",
       "      <td>...</td>\n",
       "      <td>NaN</td>\n",
       "      <td>NaN</td>\n",
       "      <td>Eric Laneuville</td>\n",
       "      <td>NaN</td>\n",
       "      <td>Stephen Lovejoy</td>\n",
       "      <td>Don Davis</td>\n",
       "      <td>Michael O. Gallant</td>\n",
       "      <td>NaN</td>\n",
       "      <td>David Israel</td>\n",
       "      <td>tt0115309</td>\n",
       "    </tr>\n",
       "  </tbody>\n",
       "</table>\n",
       "<p>3 rows × 21 columns</p>\n",
       "</div>"
      ],
      "text/plain": [
       "                                                    url  year  \\\n",
       "5391  https://en.wikipedia.org/wiki/Season_of_the_Wi...  2011   \n",
       "1189          https://en.wikipedia.org/wiki/Carnosaur_2  1995   \n",
       "1678    https://en.wikipedia.org/wiki/Pandora%27s_Clock  1996   \n",
       "\n",
       "                                  imdb_link                            title  \\\n",
       "5391  https://www.imdb.com/title/tt0479997/              Season of the Witch   \n",
       "1189  https://www.imdb.com/title/tt0112634/                      Carnosaur 2   \n",
       "1678  https://www.imdb.com/title/tt0115309/  Pandora's Clock(Doomsday Virus)   \n",
       "\n",
       "                                  Based on  \\\n",
       "5391                                   NaN   \n",
       "1189                                   NaN   \n",
       "1678  [Pandora's Clock, by, John J. Nance]   \n",
       "\n",
       "                                               Starring   Cinematography  \\\n",
       "5391  [Nicolas Cage, Ron Perlman, Robert Sheehan, Cl...       Amir Mokri   \n",
       "1189                      [John Savage, Cliff De Young]  John B. Aronson   \n",
       "1678  [Richard Dean Anderson, Stephen Root, Jane Lee...              NaN   \n",
       "\n",
       "                                           Release date Running time  \\\n",
       "5391  [January 4, 2011, (, 2011-01-04, ), (New York ...   98 minutes   \n",
       "1189                     [February 1995, (, 1995-02, )]   83 minutes   \n",
       "1678           [November 10, 1996 -, November 11, 1996]    176 mins.   \n",
       "\n",
       "            Country  ...       Budget     Box office         Director  \\\n",
       "5391  United States  ...  $40 million  $91.6 million     Dominic Sena   \n",
       "1189  United States  ...          NaN            NaN    Louis Morneau   \n",
       "1678  United States  ...          NaN            NaN  Eric Laneuville   \n",
       "\n",
       "                                            Distributor  \\\n",
       "5391  [Lionsgate, (original), Rogue, (through, Relat...   \n",
       "1189                           New Horizon Picture Corp   \n",
       "1678                                                NaN   \n",
       "\n",
       "                           Editor(s)     Composer(s)  \\\n",
       "5391  [Mark Helfrich, Dan Zimmerman]  Atli Örvarsson   \n",
       "1189  [Roderick Davis, Lorne Morris]       Ed Tomney   \n",
       "1678                 Stephen Lovejoy       Don Davis   \n",
       "\n",
       "                        Producer(s) Production company(s)       Writer(s)  \\\n",
       "5391  [Alex Gartner, Charles Roven]   Atlas Entertainment  Bragi F. Schut   \n",
       "1189                   Roger Corman                   NaN  Michael Palmer   \n",
       "1678             Michael O. Gallant                   NaN    David Israel   \n",
       "\n",
       "        imdb_id  \n",
       "5391  tt0479997  \n",
       "1189  tt0112634  \n",
       "1678  tt0115309  \n",
       "\n",
       "[3 rows x 21 columns]"
      ]
     },
     "execution_count": 11,
     "metadata": {},
     "output_type": "execute_result"
    }
   ],
   "source": [
    "wiki_movies_df.sample(3)"
   ]
  },
  {
   "cell_type": "code",
   "execution_count": 18,
   "id": "202dce41",
   "metadata": {},
   "outputs": [],
   "source": [
    "# Create a function to clean up [Box office] data\n",
    "box_office = box_office.apply(lambda x: ' '.join(x) if type(x) == list else x)"
   ]
  },
  {
   "cell_type": "code",
   "execution_count": 12,
   "id": "5af114b3",
   "metadata": {
    "scrolled": true
   },
   "outputs": [
    {
     "data": {
      "text/plain": [
       "url                      object\n",
       "year                      int64\n",
       "imdb_link                object\n",
       "title                    object\n",
       "Based on                 object\n",
       "Starring                 object\n",
       "Cinematography           object\n",
       "Release date             object\n",
       "Running time             object\n",
       "Country                  object\n",
       "Language                 object\n",
       "Budget                   object\n",
       "Box office               object\n",
       "Director                 object\n",
       "Distributor              object\n",
       "Editor(s)                object\n",
       "Composer(s)              object\n",
       "Producer(s)              object\n",
       "Production company(s)    object\n",
       "Writer(s)                object\n",
       "imdb_id                  object\n",
       "dtype: object"
      ]
     },
     "execution_count": 12,
     "metadata": {},
     "output_type": "execute_result"
    }
   ],
   "source": [
    "wiki_movies_df.dtypes"
   ]
  },
  {
   "cell_type": "code",
   "execution_count": 13,
   "id": "d53e43ef",
   "metadata": {},
   "outputs": [
    {
     "name": "stdout",
     "output_type": "stream",
     "text": [
      "7033\n",
      "7033\n"
     ]
    }
   ],
   "source": [
    "# Check length of DataFrame\n",
    "print(len(wiki_movies_df))\n",
    "# Drop duplicate rows from the DataFrame that contain the same IMDB ID \n",
    "box_office = wiki_movies_df['Box office'].dropna()\n",
    "# Check length of DataFrame\n",
    "print(len(wiki_movies_df))"
   ]
  },
  {
   "cell_type": "code",
   "execution_count": null,
   "id": "15b2e845",
   "metadata": {},
   "outputs": [],
   "source": []
  }
 ],
 "metadata": {
  "kernelspec": {
   "display_name": "Python 3 (ipykernel)",
   "language": "python",
   "name": "python3"
  },
  "language_info": {
   "codemirror_mode": {
    "name": "ipython",
    "version": 3
   },
   "file_extension": ".py",
   "mimetype": "text/x-python",
   "name": "python",
   "nbconvert_exporter": "python",
   "pygments_lexer": "ipython3",
   "version": "3.9.12"
  }
 },
 "nbformat": 4,
 "nbformat_minor": 5
}
