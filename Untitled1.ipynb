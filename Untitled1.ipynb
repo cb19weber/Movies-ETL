{
 "cells": [
  {
   "cell_type": "code",
   "execution_count": 1,
   "id": "72dee2c6",
   "metadata": {},
   "outputs": [],
   "source": [
    "# Import dependencies\n",
    "import json\n",
    "import pandas as pd\n",
    "import numpy as np\n",
    "import re"
   ]
  },
  {
   "cell_type": "code",
   "execution_count": 2,
   "id": "84d6dc65",
   "metadata": {},
   "outputs": [],
   "source": [
    "# Create path for data resources\n",
    "file_dir = \"../Movies-ETL/data\""
   ]
  },
  {
   "cell_type": "code",
   "execution_count": 3,
   "id": "f792520b",
   "metadata": {},
   "outputs": [],
   "source": [
    "# Read raw JSON data file into pandas\n",
    "with open(f'{file_dir}/wikipedia-movies.json', mode='r') as file:\n",
    "    wiki_movies_raw = json.load(file)"
   ]
  },
  {
   "cell_type": "code",
   "execution_count": 4,
   "id": "16488eda",
   "metadata": {},
   "outputs": [],
   "source": [
    "# Read raw Kaggle data into pandas\n",
    "kaggle_metadata = pd.read_csv(f'{file_dir}/movies_metadata.csv', low_memory=False)\n",
    "ratings = pd.read_csv(f'{file_dir}/ratings.csv')"
   ]
  },
  {
   "cell_type": "code",
   "execution_count": 5,
   "id": "b4e6cad0",
   "metadata": {},
   "outputs": [],
   "source": [
    "# Trim down initial JSON movie list to clean data\n",
    "wiki_movies = [movie for movie in wiki_movies_raw\n",
    "               if ('Director' in movie or 'Directed by' in movie)\n",
    "                   and 'imdb_link' in movie\n",
    "                   and 'No. of episodes' not in movie]\n",
    "wiki_movies_df = pd.DataFrame(wiki_movies)"
   ]
  },
  {
   "cell_type": "code",
   "execution_count": 6,
   "id": "32c7a399",
   "metadata": {},
   "outputs": [],
   "source": [
    "# Define function to clean individual movies in list\n",
    "def clean_movie(movie):\n",
    "    movie = dict(movie) #create a non-destructive copy\n",
    "    alt_titles = {}\n",
    "    # combine alternate titles into one list\n",
    "    for key in ['Also known as','Arabic','Cantonese','Chinese','French',\n",
    "                'Hangul','Hebrew','Hepburn','Japanese','Literally',\n",
    "                'Mandarin','McCune-Reischauer','Original title','Polish',\n",
    "                'Revised Romanization','Romanized','Russian',\n",
    "                'Simplified','Traditional','Yiddish']:\n",
    "        if key in movie:\n",
    "            alt_titles[key] = movie[key]\n",
    "            movie.pop(key)\n",
    "    if len(alt_titles) > 0:\n",
    "        movie['alt_titles'] = alt_titles\n",
    "\n",
    "    # merge column names\n",
    "    def change_column_name(old_name, new_name):\n",
    "        if old_name in movie:\n",
    "            movie[new_name] = movie.pop(old_name)\n",
    "    change_column_name('Adaptation by', 'Writer(s)')\n",
    "    change_column_name('Country of origin', 'Country')\n",
    "    change_column_name('Directed by', 'Director')\n",
    "    change_column_name('Distributed by', 'Distributor')\n",
    "    change_column_name('Edited by', 'Editor(s)')\n",
    "    change_column_name('Length', 'Running time')\n",
    "    change_column_name('Original release', 'Release date')\n",
    "    change_column_name('Music by', 'Composer(s)')\n",
    "    change_column_name('Produced by', 'Producer(s)')\n",
    "    change_column_name('Producer', 'Producer(s)')\n",
    "    change_column_name('Productioncompanies ', 'Production company(s)')\n",
    "    change_column_name('Productioncompany ', 'Production company(s)')\n",
    "    change_column_name('Released', 'Release Date')\n",
    "    change_column_name('Release Date', 'Release date')\n",
    "    change_column_name('Screen story by', 'Writer(s)')\n",
    "    change_column_name('Screenplay by', 'Writer(s)')\n",
    "    change_column_name('Story by', 'Writer(s)')\n",
    "    change_column_name('Theme music composer', 'Composer(s)')\n",
    "    change_column_name('Written by', 'Writer(s)')\n",
    "\n",
    "    return movie"
   ]
  },
  {
   "cell_type": "code",
   "execution_count": 7,
   "id": "d38f9204",
   "metadata": {},
   "outputs": [],
   "source": [
    "# Make a list of cleaned movies\n",
    "clean_movies = [clean_movie(movie) for movie in wiki_movies]\n",
    "# Create a DataFrame from the clean_movies list\n",
    "wiki_movies_df = pd.DataFrame(clean_movies)"
   ]
  },
  {
   "cell_type": "code",
   "execution_count": 8,
   "id": "fb06110d",
   "metadata": {
    "scrolled": true
   },
   "outputs": [
    {
     "data": {
      "text/plain": [
       "['Animation by',\n",
       " 'Audio format',\n",
       " 'Based on',\n",
       " 'Box office',\n",
       " 'Budget',\n",
       " 'Cinematography',\n",
       " 'Color process',\n",
       " 'Composer(s)',\n",
       " 'Country',\n",
       " 'Created by',\n",
       " 'Director',\n",
       " 'Distributor',\n",
       " 'Editor(s)',\n",
       " 'Executive producer(s)',\n",
       " 'Followed by',\n",
       " 'Genre',\n",
       " 'Label',\n",
       " 'Language',\n",
       " 'McCune–Reischauer',\n",
       " 'Narrated by',\n",
       " 'Original language(s)',\n",
       " 'Original network',\n",
       " 'Picture format',\n",
       " 'Preceded by',\n",
       " 'Producer(s)',\n",
       " 'Production company(s)',\n",
       " 'Production location(s)',\n",
       " 'Recorded',\n",
       " 'Release date',\n",
       " 'Running time',\n",
       " 'Starring',\n",
       " 'Suggested by',\n",
       " 'Venue',\n",
       " 'Voices of',\n",
       " 'Writer(s)',\n",
       " 'alt_titles',\n",
       " 'imdb_link',\n",
       " 'title',\n",
       " 'url',\n",
       " 'year']"
      ]
     },
     "execution_count": 8,
     "metadata": {},
     "output_type": "execute_result"
    }
   ],
   "source": [
    "sorted(wiki_movies_df.columns.tolist())"
   ]
  },
  {
   "cell_type": "code",
   "execution_count": 9,
   "id": "2f4fb209",
   "metadata": {},
   "outputs": [
    {
     "name": "stdout",
     "output_type": "stream",
     "text": [
      "7076\n",
      "7033\n"
     ]
    }
   ],
   "source": [
    "# Extract the IMDB ID tag from each row\n",
    "wiki_movies_df['imdb_id'] = wiki_movies_df['imdb_link'].str.extract(r'(tt\\d{7})')\n",
    "# Check length of DataFrame\n",
    "print(len(wiki_movies_df))\n",
    "# Drop duplicate rows from the DataFrame that contain the same IMDB ID \n",
    "wiki_movies_df.drop_duplicates(subset='imdb_id', inplace=True)\n",
    "# Check length of DataFrame\n",
    "print(len(wiki_movies_df))"
   ]
  },
  {
   "cell_type": "code",
   "execution_count": 10,
   "id": "2405a504",
   "metadata": {},
   "outputs": [],
   "source": [
    "wiki_columns_to_keep = [column for column in wiki_movies_df.columns if wiki_movies_df[column].isnull().sum() < len(wiki_movies_df) * 0.9]\n",
    "wiki_movies_df = wiki_movies_df[wiki_columns_to_keep]"
   ]
  },
  {
   "cell_type": "code",
   "execution_count": 11,
   "id": "883f5173",
   "metadata": {
    "scrolled": true
   },
   "outputs": [
    {
     "data": {
      "text/html": [
       "<div>\n",
       "<style scoped>\n",
       "    .dataframe tbody tr th:only-of-type {\n",
       "        vertical-align: middle;\n",
       "    }\n",
       "\n",
       "    .dataframe tbody tr th {\n",
       "        vertical-align: top;\n",
       "    }\n",
       "\n",
       "    .dataframe thead th {\n",
       "        text-align: right;\n",
       "    }\n",
       "</style>\n",
       "<table border=\"1\" class=\"dataframe\">\n",
       "  <thead>\n",
       "    <tr style=\"text-align: right;\">\n",
       "      <th></th>\n",
       "      <th>url</th>\n",
       "      <th>year</th>\n",
       "      <th>imdb_link</th>\n",
       "      <th>title</th>\n",
       "      <th>Based on</th>\n",
       "      <th>Starring</th>\n",
       "      <th>Cinematography</th>\n",
       "      <th>Release date</th>\n",
       "      <th>Running time</th>\n",
       "      <th>Country</th>\n",
       "      <th>...</th>\n",
       "      <th>Budget</th>\n",
       "      <th>Box office</th>\n",
       "      <th>Director</th>\n",
       "      <th>Distributor</th>\n",
       "      <th>Editor(s)</th>\n",
       "      <th>Composer(s)</th>\n",
       "      <th>Producer(s)</th>\n",
       "      <th>Production company(s)</th>\n",
       "      <th>Writer(s)</th>\n",
       "      <th>imdb_id</th>\n",
       "    </tr>\n",
       "  </thead>\n",
       "  <tbody>\n",
       "    <tr>\n",
       "      <th>6713</th>\n",
       "      <td>https://en.wikipedia.org/wiki/First_Kill_(2017...</td>\n",
       "      <td>2017</td>\n",
       "      <td>https://www.imdb.com/title/tt5884234/</td>\n",
       "      <td>First Kill</td>\n",
       "      <td>NaN</td>\n",
       "      <td>[Hayden Christensen, Bruce Willis, Gethin Anth...</td>\n",
       "      <td>Brandon Cox</td>\n",
       "      <td>[July 21, 2017, (, 2017-07-21, ), (USA)]</td>\n",
       "      <td>101 minutes</td>\n",
       "      <td>United States</td>\n",
       "      <td>...</td>\n",
       "      <td>NaN</td>\n",
       "      <td>$347,343</td>\n",
       "      <td>Steven C. Miller</td>\n",
       "      <td>Lionsgate Premiere</td>\n",
       "      <td>NaN</td>\n",
       "      <td>[Ryan Franks, Scott Nickoley]</td>\n",
       "      <td>[Randall Emmett, George Furla, Mark Stewart]</td>\n",
       "      <td>[Grindstone Entertainment Group, Brookstreet P...</td>\n",
       "      <td>Nick Gordon</td>\n",
       "      <td>tt5884234</td>\n",
       "    </tr>\n",
       "    <tr>\n",
       "      <th>1675</th>\n",
       "      <td>https://en.wikipedia.org/wiki/The_One_That_Got...</td>\n",
       "      <td>1996</td>\n",
       "      <td>https://www.imdb.com/title/tt0117250/</td>\n",
       "      <td>The One That Got Away</td>\n",
       "      <td>NaN</td>\n",
       "      <td>[Paul McGann, Nick Brimble, Simon Burke]</td>\n",
       "      <td>Ivan Strasburg</td>\n",
       "      <td>[18 February 1996, (, 1996-02-18, )]</td>\n",
       "      <td>111 minutes</td>\n",
       "      <td>South Africa</td>\n",
       "      <td>...</td>\n",
       "      <td>NaN</td>\n",
       "      <td>NaN</td>\n",
       "      <td>Paul Greengrass</td>\n",
       "      <td>[Firefly Entertainment, ITV]</td>\n",
       "      <td>Clive Maltby</td>\n",
       "      <td>Barrington Pheloung</td>\n",
       "      <td>Jeff Pope</td>\n",
       "      <td>London Weekend Television</td>\n",
       "      <td>[Screenplay:, Paul Greengrass, Novel:, Chris R...</td>\n",
       "      <td>tt0117250</td>\n",
       "    </tr>\n",
       "    <tr>\n",
       "      <th>1743</th>\n",
       "      <td>https://en.wikipedia.org/wiki/Tin_Cup</td>\n",
       "      <td>1996</td>\n",
       "      <td>https://www.imdb.com/title/tt0117918/</td>\n",
       "      <td>Tin Cup</td>\n",
       "      <td>NaN</td>\n",
       "      <td>[Kevin Costner, Rene Russo, Cheech Marin, Don ...</td>\n",
       "      <td>NaN</td>\n",
       "      <td>[August 16, 1996, (, 1996-08-16, ), (U.S.)]</td>\n",
       "      <td>135 minutes</td>\n",
       "      <td>NaN</td>\n",
       "      <td>...</td>\n",
       "      <td>$45 million</td>\n",
       "      <td>$75,854,588</td>\n",
       "      <td>Ron Shelton</td>\n",
       "      <td>Warner Bros.</td>\n",
       "      <td>NaN</td>\n",
       "      <td>William Ross</td>\n",
       "      <td>Gary Foster</td>\n",
       "      <td>Regency Enterprises</td>\n",
       "      <td>[John Norville, Ron Shelton]</td>\n",
       "      <td>tt0117918</td>\n",
       "    </tr>\n",
       "  </tbody>\n",
       "</table>\n",
       "<p>3 rows × 21 columns</p>\n",
       "</div>"
      ],
      "text/plain": [
       "                                                    url  year  \\\n",
       "6713  https://en.wikipedia.org/wiki/First_Kill_(2017...  2017   \n",
       "1675  https://en.wikipedia.org/wiki/The_One_That_Got...  1996   \n",
       "1743              https://en.wikipedia.org/wiki/Tin_Cup  1996   \n",
       "\n",
       "                                  imdb_link                  title Based on  \\\n",
       "6713  https://www.imdb.com/title/tt5884234/             First Kill      NaN   \n",
       "1675  https://www.imdb.com/title/tt0117250/  The One That Got Away      NaN   \n",
       "1743  https://www.imdb.com/title/tt0117918/                Tin Cup      NaN   \n",
       "\n",
       "                                               Starring  Cinematography  \\\n",
       "6713  [Hayden Christensen, Bruce Willis, Gethin Anth...     Brandon Cox   \n",
       "1675           [Paul McGann, Nick Brimble, Simon Burke]  Ivan Strasburg   \n",
       "1743  [Kevin Costner, Rene Russo, Cheech Marin, Don ...             NaN   \n",
       "\n",
       "                                     Release date Running time        Country  \\\n",
       "6713     [July 21, 2017, (, 2017-07-21, ), (USA)]  101 minutes  United States   \n",
       "1675         [18 February 1996, (, 1996-02-18, )]  111 minutes   South Africa   \n",
       "1743  [August 16, 1996, (, 1996-08-16, ), (U.S.)]  135 minutes            NaN   \n",
       "\n",
       "      ...       Budget   Box office          Director  \\\n",
       "6713  ...          NaN     $347,343  Steven C. Miller   \n",
       "1675  ...          NaN          NaN   Paul Greengrass   \n",
       "1743  ...  $45 million  $75,854,588       Ron Shelton   \n",
       "\n",
       "                       Distributor     Editor(s)  \\\n",
       "6713            Lionsgate Premiere           NaN   \n",
       "1675  [Firefly Entertainment, ITV]  Clive Maltby   \n",
       "1743                  Warner Bros.           NaN   \n",
       "\n",
       "                        Composer(s)  \\\n",
       "6713  [Ryan Franks, Scott Nickoley]   \n",
       "1675            Barrington Pheloung   \n",
       "1743                   William Ross   \n",
       "\n",
       "                                       Producer(s)  \\\n",
       "6713  [Randall Emmett, George Furla, Mark Stewart]   \n",
       "1675                                     Jeff Pope   \n",
       "1743                                   Gary Foster   \n",
       "\n",
       "                                  Production company(s)  \\\n",
       "6713  [Grindstone Entertainment Group, Brookstreet P...   \n",
       "1675                          London Weekend Television   \n",
       "1743                                Regency Enterprises   \n",
       "\n",
       "                                              Writer(s)    imdb_id  \n",
       "6713                                        Nick Gordon  tt5884234  \n",
       "1675  [Screenplay:, Paul Greengrass, Novel:, Chris R...  tt0117250  \n",
       "1743                       [John Norville, Ron Shelton]  tt0117918  \n",
       "\n",
       "[3 rows x 21 columns]"
      ]
     },
     "execution_count": 11,
     "metadata": {},
     "output_type": "execute_result"
    }
   ],
   "source": [
    "wiki_movies_df.sample(3)"
   ]
  },
  {
   "cell_type": "code",
   "execution_count": 12,
   "id": "8def4dc6",
   "metadata": {},
   "outputs": [
    {
     "name": "stdout",
     "output_type": "stream",
     "text": [
      "7033\n",
      "5485\n",
      "4738\n"
     ]
    }
   ],
   "source": [
    "# Check length of DataFrame\n",
    "print(len(wiki_movies_df))\n",
    "# Drop duplicate rows from the DataFrame that contain the same IMDB ID \n",
    "box_office = wiki_movies_df['Box office'].dropna()\n",
    "budget = wiki_movies_df['Budget'].dropna()\n",
    "release_date = wiki_movies_df['Release date'].dropna().apply(lambda x: ' '.join(x) if type(x) == list else x)\n",
    "# Check length of DataFrame\n",
    "print(len(box_office))\n",
    "print(len(budget))"
   ]
  },
  {
   "cell_type": "code",
   "execution_count": 13,
   "id": "187b1fc0",
   "metadata": {},
   "outputs": [],
   "source": [
    "# Create a function to clean up [Box office] and [Budget] data\n",
    "box_office = box_office.map(lambda x: ' '.join(x) if type(x) == list else x)\n",
    "budget = budget.map(lambda x: ' '.join(x) if type(x) == list else x)\n",
    "# Remove range designations, such has hyphens\n",
    "box_office = box_office.str.replace(r'\\$.*[-—–](?![a-z])', '$', regex=True)\n",
    "budget = budget.str.replace(r'\\$.*[-—–](?![a-z])', '$', regex=True)"
   ]
  },
  {
   "cell_type": "code",
   "execution_count": 14,
   "id": "efdaaab7",
   "metadata": {},
   "outputs": [
    {
     "data": {
      "text/plain": [
       "4363"
      ]
     },
     "execution_count": 14,
     "metadata": {},
     "output_type": "execute_result"
    }
   ],
   "source": [
    "form_one = r'\\$\\s*\\d+\\.?\\d*\\s*[mb]illi?on'\n",
    "form_two = r'\\$\\s*\\d{1,3}(?:[,\\.]\\d{3})+'\n",
    "box_office.str.contains(form_one, flags=re.IGNORECASE, na=False).sum()\n",
    "budget.str.contains(form_one, flags=re.IGNORECASE, na=False).sum()"
   ]
  },
  {
   "cell_type": "code",
   "execution_count": 15,
   "id": "357b596f",
   "metadata": {},
   "outputs": [
    {
     "data": {
      "text/plain": [
       "340"
      ]
     },
     "execution_count": 15,
     "metadata": {},
     "output_type": "execute_result"
    }
   ],
   "source": [
    "box_office.str.contains(form_two, flags=re.IGNORECASE, na=False).sum()\n",
    "budget.str.contains(form_two, flags=re.IGNORECASE, na=False).sum()"
   ]
  },
  {
   "cell_type": "code",
   "execution_count": 16,
   "id": "22be8927",
   "metadata": {},
   "outputs": [
    {
     "name": "stderr",
     "output_type": "stream",
     "text": [
      "C:\\Users\\culle\\AppData\\Local\\Temp\\ipykernel_18152\\665546886.py:6: FutureWarning: The default value of regex will change from True to False in a future version.\n",
      "  budget = budget.str.replace(r'\\[\\d+\\]\\s*', '')\n"
     ]
    },
    {
     "data": {
      "text/plain": [
       "136                         Unknown\n",
       "204     60 million Norwegian Kroner\n",
       "478                         Unknown\n",
       "973                     $34 million\n",
       "1126                   $120 million\n",
       "1226                        Unknown\n",
       "1278                            HBO\n",
       "1374                     £6,000,000\n",
       "1397                     13 million\n",
       "1480                   £2.8 million\n",
       "1734                   CAD2,000,000\n",
       "1913     PHP 85 million (estimated)\n",
       "1948                    102,888,900\n",
       "1953                   3,500,000 DM\n",
       "1973                     ₤2,300,874\n",
       "2281                     $14 milion\n",
       "2451                     ₤6,350,000\n",
       "3144                   € 40 million\n",
       "3360                   $150 million\n",
       "3418                        $218.32\n",
       "3802                   £4.2 million\n",
       "3906                            N/A\n",
       "3959                    760,000 USD\n",
       "4470                       19 crore\n",
       "4641                    £17 million\n",
       "5034                  $$200 million\n",
       "5055                   $155 million\n",
       "5419                    $40 million\n",
       "5424                            N/A\n",
       "5447                     £4 million\n",
       "5671                    €14 million\n",
       "5687                   $ dead link]\n",
       "6385                  £ 12 million \n",
       "6593                     £3 million\n",
       "6821                  £12.9 million\n",
       "6843                      3.5 crore\n",
       "6895                        919,000\n",
       "7070                   €4.3 million\n",
       "Name: Budget, dtype: object"
      ]
     },
     "execution_count": 16,
     "metadata": {},
     "output_type": "execute_result"
    }
   ],
   "source": [
    "matches_form_one = box_office.str.contains(form_one, flags=re.IGNORECASE, na=False)\n",
    "matches_form_two = box_office.str.contains(form_two, flags=re.IGNORECASE, na=False)\n",
    "# box_office[~matches_form_one & ~matches_form_two]\n",
    "matches_form_one = budget.str.contains(form_one, flags=re.IGNORECASE, na=False)\n",
    "matches_form_two = budget.str.contains(form_two, flags=re.IGNORECASE, na=False)\n",
    "budget = budget.str.replace(r'\\[\\d+\\]\\s*', '')\n",
    "# budget[~matches_form_one & ~matches_form_two]"
   ]
  },
  {
   "cell_type": "code",
   "execution_count": 17,
   "id": "14fa0af1",
   "metadata": {},
   "outputs": [],
   "source": [
    "def parse_dollars(s):\n",
    "    # if s is not a string, return NaN\n",
    "    if type(s) != str:\n",
    "        return np.nan\n",
    "\n",
    "    # if input is of the form $###.# million\n",
    "    if re.match(r'\\$\\s*\\d+\\.?\\d*\\s*milli?on', s, flags=re.IGNORECASE):\n",
    "\n",
    "        # remove dollar sign and \" million\"\n",
    "        s = re.sub('\\$|\\s|[a-zA-Z]','', s)\n",
    "\n",
    "        # convert to float and multiply by a million\n",
    "        value = float(s) * 10**6\n",
    "\n",
    "        # return value\n",
    "        return value\n",
    "\n",
    "    # if input is of the form $###.# billion\n",
    "    elif re.match(r'\\$\\s*\\d+\\.?\\d*\\s*billi?on', s, flags=re.IGNORECASE):\n",
    "\n",
    "        # remove dollar sign and \" billion\"\n",
    "        s = re.sub('\\$|\\s|[a-zA-Z]','', s)\n",
    "\n",
    "        # convert to float and multiply by a billion\n",
    "        value = float(s) * 10**9\n",
    "\n",
    "        # return value\n",
    "        return value\n",
    "\n",
    "    # if input is of the form $###,###,###\n",
    "    elif re.match(r'\\$\\s*\\d{1,3}(?:[,\\.]\\d{3})+(?!\\s[mb]illion)', s, flags=re.IGNORECASE):\n",
    "\n",
    "        # remove dollar sign and commas\n",
    "        s = re.sub('\\$|,','', s)\n",
    "\n",
    "        # convert to float\n",
    "        value = float(s)\n",
    "\n",
    "        # return value\n",
    "        return value\n",
    "\n",
    "    # otherwise, return NaN\n",
    "    else:\n",
    "        return np.nan"
   ]
  },
  {
   "cell_type": "code",
   "execution_count": 18,
   "id": "f96dfa77",
   "metadata": {},
   "outputs": [],
   "source": [
    "# Create new box office and budget columns to contain usable data types using the parsing function\n",
    "wiki_movies_df['box_office'] = box_office.str.extract(f'({form_one}|{form_two})', flags=re.IGNORECASE)[0].apply(parse_dollars)\n",
    "wiki_movies_df.drop('Box office', axis=1, inplace=True)\n",
    "wiki_movies_df['budget'] = budget.str.extract(f'({form_one}|{form_two})', flags=re.IGNORECASE)[0].apply(parse_dollars)\n",
    "wiki_movies_df.drop('Budget', axis=1, inplace=True)"
   ]
  },
  {
   "cell_type": "code",
   "execution_count": 19,
   "id": "e33c6afc",
   "metadata": {
    "scrolled": false
   },
   "outputs": [
    {
     "data": {
      "text/plain": [
       "url                       object\n",
       "year                       int64\n",
       "imdb_link                 object\n",
       "title                     object\n",
       "Based on                  object\n",
       "Starring                  object\n",
       "Cinematography            object\n",
       "Release date              object\n",
       "Running time              object\n",
       "Country                   object\n",
       "Language                  object\n",
       "Director                  object\n",
       "Distributor               object\n",
       "Editor(s)                 object\n",
       "Composer(s)               object\n",
       "Producer(s)               object\n",
       "Production company(s)     object\n",
       "Writer(s)                 object\n",
       "imdb_id                   object\n",
       "box_office               float64\n",
       "budget                   float64\n",
       "dtype: object"
      ]
     },
     "execution_count": 19,
     "metadata": {},
     "output_type": "execute_result"
    }
   ],
   "source": [
    "wiki_movies_df.dtypes"
   ]
  },
  {
   "cell_type": "code",
   "execution_count": null,
   "id": "291e3d62",
   "metadata": {},
   "outputs": [],
   "source": []
  }
 ],
 "metadata": {
  "kernelspec": {
   "display_name": "Python 3 (ipykernel)",
   "language": "python",
   "name": "python3"
  },
  "language_info": {
   "codemirror_mode": {
    "name": "ipython",
    "version": 3
   },
   "file_extension": ".py",
   "mimetype": "text/x-python",
   "name": "python",
   "nbconvert_exporter": "python",
   "pygments_lexer": "ipython3",
   "version": "3.9.12"
  }
 },
 "nbformat": 4,
 "nbformat_minor": 5
}
