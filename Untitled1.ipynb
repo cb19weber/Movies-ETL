{
 "cells": [
  {
   "cell_type": "code",
   "execution_count": 1,
   "id": "c82b3dcb",
   "metadata": {},
   "outputs": [],
   "source": [
    "# Import dependencies\n",
    "import json\n",
    "import pandas as pd\n",
    "import numpy as np\n",
    "import re"
   ]
  },
  {
   "cell_type": "code",
   "execution_count": 2,
   "id": "331144f1",
   "metadata": {},
   "outputs": [],
   "source": [
    "# Create path for data resources\n",
    "file_dir = \"../Movies-ETL/data\""
   ]
  },
  {
   "cell_type": "code",
   "execution_count": 3,
   "id": "195d4d0d",
   "metadata": {},
   "outputs": [],
   "source": [
    "# Read raw JSON data file into pandas\n",
    "with open(f'{file_dir}/wikipedia-movies.json', mode='r') as file:\n",
    "    wiki_movies_raw = json.load(file)"
   ]
  },
  {
   "cell_type": "code",
   "execution_count": 4,
   "id": "4b3f3881",
   "metadata": {},
   "outputs": [],
   "source": [
    "# Read raw Kaggle data into pandas\n",
    "kaggle_metadata = pd.read_csv(f'{file_dir}/movies_metadata.csv', low_memory=False)\n",
    "ratings = pd.read_csv(f'{file_dir}/ratings.csv')"
   ]
  },
  {
   "cell_type": "code",
   "execution_count": 5,
   "id": "0856e7bb",
   "metadata": {},
   "outputs": [],
   "source": [
    "# Trim down initial JSON movie list to clean data\n",
    "wiki_movies = [movie for movie in wiki_movies_raw\n",
    "               if ('Director' in movie or 'Directed by' in movie)\n",
    "                   and 'imdb_link' in movie\n",
    "                   and 'No. of episodes' not in movie]\n",
    "wiki_movies_df = pd.DataFrame(wiki_movies)"
   ]
  },
  {
   "cell_type": "code",
   "execution_count": 6,
   "id": "8c346ff9",
   "metadata": {},
   "outputs": [],
   "source": [
    "# Define function to clean individual movies in list\n",
    "def clean_movie(movie):\n",
    "    movie = dict(movie) #create a non-destructive copy\n",
    "    alt_titles = {}\n",
    "    # combine alternate titles into one list\n",
    "    for key in ['Also known as','Arabic','Cantonese','Chinese','French',\n",
    "                'Hangul','Hebrew','Hepburn','Japanese','Literally',\n",
    "                'Mandarin','McCune-Reischauer','Original title','Polish',\n",
    "                'Revised Romanization','Romanized','Russian',\n",
    "                'Simplified','Traditional','Yiddish']:\n",
    "        if key in movie:\n",
    "            alt_titles[key] = movie[key]\n",
    "            movie.pop(key)\n",
    "    if len(alt_titles) > 0:\n",
    "        movie['alt_titles'] = alt_titles\n",
    "\n",
    "    # merge column names\n",
    "    def change_column_name(old_name, new_name):\n",
    "        if old_name in movie:\n",
    "            movie[new_name] = movie.pop(old_name)\n",
    "    change_column_name('Adaptation by', 'Writer(s)')\n",
    "    change_column_name('Country of origin', 'Country')\n",
    "    change_column_name('Directed by', 'Director')\n",
    "    change_column_name('Distributed by', 'Distributor')\n",
    "    change_column_name('Edited by', 'Editor(s)')\n",
    "    change_column_name('Length', 'Running time')\n",
    "    change_column_name('Original release', 'Release date')\n",
    "    change_column_name('Music by', 'Composer(s)')\n",
    "    change_column_name('Produced by', 'Producer(s)')\n",
    "    change_column_name('Producer', 'Producer(s)')\n",
    "    change_column_name('Productioncompanies ', 'Production company(s)')\n",
    "    change_column_name('Productioncompany ', 'Production company(s)')\n",
    "    change_column_name('Released', 'Release Date')\n",
    "    change_column_name('Release Date', 'Release date')\n",
    "    change_column_name('Screen story by', 'Writer(s)')\n",
    "    change_column_name('Screenplay by', 'Writer(s)')\n",
    "    change_column_name('Story by', 'Writer(s)')\n",
    "    change_column_name('Theme music composer', 'Composer(s)')\n",
    "    change_column_name('Written by', 'Writer(s)')\n",
    "\n",
    "    return movie"
   ]
  },
  {
   "cell_type": "code",
   "execution_count": 7,
   "id": "d7959aab",
   "metadata": {},
   "outputs": [],
   "source": [
    "# Make a list of cleaned movies\n",
    "clean_movies = [clean_movie(movie) for movie in wiki_movies]\n",
    "# Create a DataFrame from the clean_movies list\n",
    "wiki_movies_df = pd.DataFrame(clean_movies)"
   ]
  },
  {
   "cell_type": "code",
   "execution_count": 8,
   "id": "5881a2b7",
   "metadata": {
    "scrolled": true
   },
   "outputs": [
    {
     "data": {
      "text/plain": [
       "['Animation by',\n",
       " 'Audio format',\n",
       " 'Based on',\n",
       " 'Box office',\n",
       " 'Budget',\n",
       " 'Cinematography',\n",
       " 'Color process',\n",
       " 'Composer(s)',\n",
       " 'Country',\n",
       " 'Created by',\n",
       " 'Director',\n",
       " 'Distributor',\n",
       " 'Editor(s)',\n",
       " 'Executive producer(s)',\n",
       " 'Followed by',\n",
       " 'Genre',\n",
       " 'Label',\n",
       " 'Language',\n",
       " 'McCune–Reischauer',\n",
       " 'Narrated by',\n",
       " 'Original language(s)',\n",
       " 'Original network',\n",
       " 'Picture format',\n",
       " 'Preceded by',\n",
       " 'Producer(s)',\n",
       " 'Production company(s)',\n",
       " 'Production location(s)',\n",
       " 'Recorded',\n",
       " 'Release date',\n",
       " 'Running time',\n",
       " 'Starring',\n",
       " 'Suggested by',\n",
       " 'Venue',\n",
       " 'Voices of',\n",
       " 'Writer(s)',\n",
       " 'alt_titles',\n",
       " 'imdb_link',\n",
       " 'title',\n",
       " 'url',\n",
       " 'year']"
      ]
     },
     "execution_count": 8,
     "metadata": {},
     "output_type": "execute_result"
    }
   ],
   "source": [
    "sorted(wiki_movies_df.columns.tolist())"
   ]
  },
  {
   "cell_type": "code",
   "execution_count": 9,
   "id": "76a0fd91",
   "metadata": {},
   "outputs": [
    {
     "name": "stdout",
     "output_type": "stream",
     "text": [
      "7076\n",
      "7033\n"
     ]
    }
   ],
   "source": [
    "# Extract the IMDB ID tag from each row\n",
    "wiki_movies_df['imdb_id'] = wiki_movies_df['imdb_link'].str.extract(r'(tt\\d{7})')\n",
    "# Check length of DataFrame\n",
    "print(len(wiki_movies_df))\n",
    "# Drop duplicate rows from the DataFrame that contain the same IMDB ID \n",
    "wiki_movies_df.drop_duplicates(subset='imdb_id', inplace=True)\n",
    "# Check length of DataFrame\n",
    "print(len(wiki_movies_df))"
   ]
  },
  {
   "cell_type": "code",
   "execution_count": 10,
   "id": "bbac4283",
   "metadata": {},
   "outputs": [],
   "source": [
    "wiki_columns_to_keep = [column for column in wiki_movies_df.columns if wiki_movies_df[column].isnull().sum() < len(wiki_movies_df) * 0.9]\n",
    "wiki_movies_df = wiki_movies_df[wiki_columns_to_keep]"
   ]
  },
  {
   "cell_type": "code",
   "execution_count": 11,
   "id": "01564890",
   "metadata": {},
   "outputs": [
    {
     "name": "stdout",
     "output_type": "stream",
     "text": [
      "7033\n",
      "6894\n"
     ]
    }
   ],
   "source": [
    "# Check length of DataFrame\n",
    "print(len(wiki_movies_df))\n",
    "# Drop duplicate rows from the DataFrame that contain the same IMDB ID \n",
    "box_office = wiki_movies_df['Box office'].dropna()\n",
    "budget = wiki_movies_df['Budget'].dropna()\n",
    "release_date = wiki_movies_df['Release date'].dropna().apply(lambda x: ' '.join(x) if type(x) == list else x)\n",
    "running_time = wiki_movies_df['Running time'].dropna().apply(lambda x: ' '.join(x) if type(x) == list else x)\n",
    "# Check length of DataFrame\n",
    "# print(len(box_office))\n",
    "# print(len(budget))\n",
    "# print(len(release_date))\n",
    "print(len(running_time))"
   ]
  },
  {
   "cell_type": "code",
   "execution_count": 12,
   "id": "9ba71d62",
   "metadata": {},
   "outputs": [],
   "source": [
    "# Create a function to clean up [Box office] and [Budget] data\n",
    "box_office = box_office.map(lambda x: ' '.join(x) if type(x) == list else x)\n",
    "budget = budget.map(lambda x: ' '.join(x) if type(x) == list else x)\n",
    "# Remove range designations, such has hyphens\n",
    "box_office = box_office.str.replace(r'\\$.*[-—–](?![a-z])', '$', regex=True)\n",
    "budget = budget.str.replace(r'\\$.*[-—–](?![a-z])', '$', regex=True)"
   ]
  },
  {
   "cell_type": "code",
   "execution_count": 13,
   "id": "c183a15e",
   "metadata": {},
   "outputs": [
    {
     "data": {
      "text/plain": [
       "6877"
      ]
     },
     "execution_count": 13,
     "metadata": {},
     "output_type": "execute_result"
    }
   ],
   "source": [
    "# Create regex string forms to capture monetary amounts\n",
    "form_one = r'\\$\\s*\\d+\\.?\\d*\\s*[mb]illi?on'\n",
    "form_two = r'\\$\\s*\\d{1,3}(?:[,\\.]\\d{3})+'\n",
    "# Create regex string forms to capture date information\n",
    "date_form_one = r'(?:January|February|March|April|May|June|July|August|September|October|November|December)\\s[123]?\\d,\\s\\d{4}'\n",
    "date_form_two = r'\\d{4}.[01]\\d.[0123]\\d'\n",
    "date_form_three = r'(?:January|February|March|April|May|June|July|August|September|October|November|December)\\s\\d{4}'\n",
    "date_form_four = r'\\d{4}'\n",
    "# box_office.str.contains(form_one, flags=re.IGNORECASE, na=False).sum()\n",
    "# budget.str.contains(form_one, flags=re.IGNORECASE, na=False).sum()\n",
    "running_time.str.contains(r'^\\d*\\s*m', flags=re.IGNORECASE, na=False).sum()"
   ]
  },
  {
   "cell_type": "code",
   "execution_count": 14,
   "id": "f840f589",
   "metadata": {},
   "outputs": [],
   "source": [
    "# box_office.str.contains(form_two, flags=re.IGNORECASE, na=False).sum()\n",
    "# budget.str.contains(form_two, flags=re.IGNORECASE, na=False).sum()"
   ]
  },
  {
   "cell_type": "code",
   "execution_count": 15,
   "id": "95e73328",
   "metadata": {},
   "outputs": [
    {
     "name": "stderr",
     "output_type": "stream",
     "text": [
      "C:\\Users\\culle\\AppData\\Local\\Temp\\ipykernel_25520\\266639334.py:6: FutureWarning: The default value of regex will change from True to False in a future version.\n",
      "  budget = budget.str.replace(r'\\[\\d+\\]\\s*', '')\n"
     ]
    }
   ],
   "source": [
    "matches_form_one = box_office.str.contains(form_one, flags=re.IGNORECASE, na=False)\n",
    "matches_form_two = box_office.str.contains(form_two, flags=re.IGNORECASE, na=False)\n",
    "# box_office[~matches_form_one & ~matches_form_two]\n",
    "matches_form_one = budget.str.contains(form_one, flags=re.IGNORECASE, na=False)\n",
    "matches_form_two = budget.str.contains(form_two, flags=re.IGNORECASE, na=False)\n",
    "budget = budget.str.replace(r'\\[\\d+\\]\\s*', '')\n",
    "# budget[~matches_form_one & ~matches_form_two]"
   ]
  },
  {
   "cell_type": "code",
   "execution_count": 16,
   "id": "e63811b5",
   "metadata": {},
   "outputs": [],
   "source": [
    "def parse_dollars(s):\n",
    "    # if s is not a string, return NaN\n",
    "    if type(s) != str:\n",
    "        return np.nan\n",
    "\n",
    "    # if input is of the form $###.# million\n",
    "    if re.match(r'\\$\\s*\\d+\\.?\\d*\\s*milli?on', s, flags=re.IGNORECASE):\n",
    "\n",
    "        # remove dollar sign and \" million\"\n",
    "        s = re.sub('\\$|\\s|[a-zA-Z]','', s)\n",
    "\n",
    "        # convert to float and multiply by a million\n",
    "        value = float(s) * 10**6\n",
    "\n",
    "        # return value\n",
    "        return value\n",
    "\n",
    "    # if input is of the form $###.# billion\n",
    "    elif re.match(r'\\$\\s*\\d+\\.?\\d*\\s*billi?on', s, flags=re.IGNORECASE):\n",
    "\n",
    "        # remove dollar sign and \" billion\"\n",
    "        s = re.sub('\\$|\\s|[a-zA-Z]','', s)\n",
    "\n",
    "        # convert to float and multiply by a billion\n",
    "        value = float(s) * 10**9\n",
    "\n",
    "        # return value\n",
    "        return value\n",
    "\n",
    "    # if input is of the form $###,###,###\n",
    "    elif re.match(r'\\$\\s*\\d{1,3}(?:[,\\.]\\d{3})+(?!\\s[mb]illion)', s, flags=re.IGNORECASE):\n",
    "\n",
    "        # remove dollar sign and commas\n",
    "        s = re.sub('\\$|,','', s)\n",
    "\n",
    "        # convert to float\n",
    "        value = float(s)\n",
    "\n",
    "        # return value\n",
    "        return value\n",
    "\n",
    "    # otherwise, return NaN\n",
    "    else:\n",
    "        return np.nan"
   ]
  },
  {
   "cell_type": "code",
   "execution_count": 17,
   "id": "18a12f07",
   "metadata": {},
   "outputs": [],
   "source": [
    "# Create new box office and budget columns to contain usable data types using the parsing function\n",
    "wiki_movies_df['box_office'] = box_office.str.extract(f'({form_one}|{form_two})', flags=re.IGNORECASE)[0].apply(parse_dollars)\n",
    "wiki_movies_df['budget'] = budget.str.extract(f'({form_one}|{form_two})', flags=re.IGNORECASE)[0].apply(parse_dollars)\n",
    "wiki_movies_df['release_date'] = pd.to_datetime(release_date.str.extract(f'({date_form_one}|{date_form_two}|{date_form_three}|{date_form_four})')[0], infer_datetime_format=True)\n",
    "# Extract running time from the various strings in run time column\n",
    "running_time_extract = running_time.str.extract(r'(\\d+)\\s*ho?u?r?s?\\s*(\\d*)|(\\d+)\\s*m')\n",
    "# Convert run time extracted strings to numerical values\n",
    "running_time_extract = running_time_extract.apply(lambda col: pd.to_numeric(col, errors='coerce')).fillna(0)\n",
    "# Create new running time column based on extracted numerical values and fill null values\n",
    "wiki_movies_df['running_time'] = running_time_extract.apply(lambda row: row[0]*60 + row[1] if row[2] == 0 else row[2], axis=1)\n",
    "# Drop old columns from data frame that have been replaced with clean columns\n",
    "wiki_movies_df.drop('Box office', axis=1, inplace=True)\n",
    "wiki_movies_df.drop('Budget', axis=1, inplace=True)\n",
    "wiki_movies_df.drop('Release date', axis=1, inplace=True)\n",
    "wiki_movies_df.drop('Running time', axis=1, inplace=True)"
   ]
  },
  {
   "cell_type": "code",
   "execution_count": 18,
   "id": "ea40ebf1",
   "metadata": {
    "scrolled": false
   },
   "outputs": [
    {
     "data": {
      "text/plain": [
       "url                              object\n",
       "year                              int64\n",
       "imdb_link                        object\n",
       "title                            object\n",
       "Based on                         object\n",
       "Starring                         object\n",
       "Cinematography                   object\n",
       "Country                          object\n",
       "Language                         object\n",
       "Director                         object\n",
       "Distributor                      object\n",
       "Editor(s)                        object\n",
       "Composer(s)                      object\n",
       "Producer(s)                      object\n",
       "Production company(s)            object\n",
       "Writer(s)                        object\n",
       "imdb_id                          object\n",
       "box_office                      float64\n",
       "budget                          float64\n",
       "release_date             datetime64[ns]\n",
       "running_time                    float64\n",
       "dtype: object"
      ]
     },
     "execution_count": 18,
     "metadata": {},
     "output_type": "execute_result"
    }
   ],
   "source": [
    "wiki_movies_df.dtypes"
   ]
  },
  {
   "cell_type": "code",
   "execution_count": 19,
   "id": "3ae14dc7",
   "metadata": {},
   "outputs": [
    {
     "data": {
      "text/html": [
       "<div>\n",
       "<style scoped>\n",
       "    .dataframe tbody tr th:only-of-type {\n",
       "        vertical-align: middle;\n",
       "    }\n",
       "\n",
       "    .dataframe tbody tr th {\n",
       "        vertical-align: top;\n",
       "    }\n",
       "\n",
       "    .dataframe thead th {\n",
       "        text-align: right;\n",
       "    }\n",
       "</style>\n",
       "<table border=\"1\" class=\"dataframe\">\n",
       "  <thead>\n",
       "    <tr style=\"text-align: right;\">\n",
       "      <th></th>\n",
       "      <th>url</th>\n",
       "      <th>year</th>\n",
       "      <th>imdb_link</th>\n",
       "      <th>title</th>\n",
       "      <th>Based on</th>\n",
       "      <th>Starring</th>\n",
       "      <th>Cinematography</th>\n",
       "      <th>Country</th>\n",
       "      <th>Language</th>\n",
       "      <th>Director</th>\n",
       "      <th>...</th>\n",
       "      <th>Editor(s)</th>\n",
       "      <th>Composer(s)</th>\n",
       "      <th>Producer(s)</th>\n",
       "      <th>Production company(s)</th>\n",
       "      <th>Writer(s)</th>\n",
       "      <th>imdb_id</th>\n",
       "      <th>box_office</th>\n",
       "      <th>budget</th>\n",
       "      <th>release_date</th>\n",
       "      <th>running_time</th>\n",
       "    </tr>\n",
       "  </thead>\n",
       "  <tbody>\n",
       "    <tr>\n",
       "      <th>3816</th>\n",
       "      <td>https://en.wikipedia.org/wiki/Match_Point</td>\n",
       "      <td>2005</td>\n",
       "      <td>https://www.imdb.com/title/tt0416320/</td>\n",
       "      <td>Match Point</td>\n",
       "      <td>NaN</td>\n",
       "      <td>[Brian Cox, Matthew Goode, Scarlett Johansson,...</td>\n",
       "      <td>Remi Adefarasin</td>\n",
       "      <td>[United Kingdom, [2], United States, [2], Luxe...</td>\n",
       "      <td>English</td>\n",
       "      <td>Woody Allen</td>\n",
       "      <td>...</td>\n",
       "      <td>Alisa Lepselter</td>\n",
       "      <td>NaN</td>\n",
       "      <td>[Letty Aronson, Gareth Wiley, Lucy Darwin]</td>\n",
       "      <td>[BBC Films, Thema Production, Jada Productions]</td>\n",
       "      <td>Woody Allen</td>\n",
       "      <td>tt0416320</td>\n",
       "      <td>85300000.0</td>\n",
       "      <td>15000000.0</td>\n",
       "      <td>2005-05-01</td>\n",
       "      <td>124.0</td>\n",
       "    </tr>\n",
       "    <tr>\n",
       "      <th>2663</th>\n",
       "      <td>https://en.wikipedia.org/wiki/Keeping_the_Faith</td>\n",
       "      <td>2000</td>\n",
       "      <td>https://www.imdb.com/title/tt0171433/</td>\n",
       "      <td>Keeping the Faith</td>\n",
       "      <td>NaN</td>\n",
       "      <td>[Ben Stiller, Jenna Elfman, Edward Norton, Eli...</td>\n",
       "      <td>Anastas N. Michos</td>\n",
       "      <td>United States</td>\n",
       "      <td>English</td>\n",
       "      <td>Edward Norton</td>\n",
       "      <td>...</td>\n",
       "      <td>Malcolm Campbell</td>\n",
       "      <td>Elmer Bernstein</td>\n",
       "      <td>[Hawk Koch, Edward Norton, Stuart Blumberg]</td>\n",
       "      <td>[Touchstone Pictures, Spyglass Entertainment, ...</td>\n",
       "      <td>Stuart Blumberg</td>\n",
       "      <td>tt0171433</td>\n",
       "      <td>59900000.0</td>\n",
       "      <td>29000000.0</td>\n",
       "      <td>2000-04-14</td>\n",
       "      <td>128.0</td>\n",
       "    </tr>\n",
       "    <tr>\n",
       "      <th>4191</th>\n",
       "      <td>https://en.wikipedia.org/wiki/Peaceful_Warrior</td>\n",
       "      <td>2006</td>\n",
       "      <td>https://www.imdb.com/title/tt0438315/</td>\n",
       "      <td>Peaceful Warrior</td>\n",
       "      <td>[Way of the Peaceful Warrior, by, Dan Millman]</td>\n",
       "      <td>[Scott Mechlowicz, Nick Nolte, Amy Smart]</td>\n",
       "      <td>Sharone Meir</td>\n",
       "      <td>[Germany, United States]</td>\n",
       "      <td>English</td>\n",
       "      <td>Victor Salva</td>\n",
       "      <td>...</td>\n",
       "      <td>Ed Marx</td>\n",
       "      <td>Bennett Salvay</td>\n",
       "      <td>[Robin Schorr, Mark Amin, David Welch, Cami Wi...</td>\n",
       "      <td>DEJ Productions</td>\n",
       "      <td>Kevin Bernhardt</td>\n",
       "      <td>tt0438315</td>\n",
       "      <td>4300000.0</td>\n",
       "      <td>10000000.0</td>\n",
       "      <td>2006-06-02</td>\n",
       "      <td>120.0</td>\n",
       "    </tr>\n",
       "    <tr>\n",
       "      <th>4837</th>\n",
       "      <td>https://en.wikipedia.org/wiki/Brothers_at_War</td>\n",
       "      <td>2009</td>\n",
       "      <td>https://www.imdb.com/title/tt1239427/</td>\n",
       "      <td>Brothers at War</td>\n",
       "      <td>NaN</td>\n",
       "      <td>[Jake Rademacher, CPT, Isaac Rademacher, SGT, ...</td>\n",
       "      <td>[Marc Miller, Conor Colwell]</td>\n",
       "      <td>United States</td>\n",
       "      <td>English</td>\n",
       "      <td>Jake Rademacher</td>\n",
       "      <td>...</td>\n",
       "      <td>Robert DeMaio</td>\n",
       "      <td>Lee Holdridge</td>\n",
       "      <td>[Norman S. Powell, Jake Rademacher, Gary Sinis...</td>\n",
       "      <td>NaN</td>\n",
       "      <td>NaN</td>\n",
       "      <td>tt1239427</td>\n",
       "      <td>NaN</td>\n",
       "      <td>NaN</td>\n",
       "      <td>2009-03-13</td>\n",
       "      <td>112.0</td>\n",
       "    </tr>\n",
       "    <tr>\n",
       "      <th>6326</th>\n",
       "      <td>https://en.wikipedia.org/wiki/Seventh_Son_(film)</td>\n",
       "      <td>2015</td>\n",
       "      <td>https://www.imdb.com/title/tt1121096/</td>\n",
       "      <td>Seventh Son</td>\n",
       "      <td>[The Spook's Apprentice, by, Joseph Delaney]</td>\n",
       "      <td>[Jeff Bridges, Ben Barnes, Alicia Vikander, Ki...</td>\n",
       "      <td>Newton Thomas Sigel</td>\n",
       "      <td>United States</td>\n",
       "      <td>English</td>\n",
       "      <td>Sergei Bodrov</td>\n",
       "      <td>...</td>\n",
       "      <td>[Paul Rubell, Jim Page, Michael Kahn]</td>\n",
       "      <td>Marco Beltrami</td>\n",
       "      <td>[Basil Iwanyk, Thomas Tull, Lionel Wigram]</td>\n",
       "      <td>[China Film Group, [2], Legendary Pictures, [2...</td>\n",
       "      <td>Matt Greenberg</td>\n",
       "      <td>tt1121096</td>\n",
       "      <td>114200000.0</td>\n",
       "      <td>95000000.0</td>\n",
       "      <td>2014-12-17</td>\n",
       "      <td>102.0</td>\n",
       "    </tr>\n",
       "  </tbody>\n",
       "</table>\n",
       "<p>5 rows × 21 columns</p>\n",
       "</div>"
      ],
      "text/plain": [
       "                                                   url  year  \\\n",
       "3816         https://en.wikipedia.org/wiki/Match_Point  2005   \n",
       "2663   https://en.wikipedia.org/wiki/Keeping_the_Faith  2000   \n",
       "4191    https://en.wikipedia.org/wiki/Peaceful_Warrior  2006   \n",
       "4837     https://en.wikipedia.org/wiki/Brothers_at_War  2009   \n",
       "6326  https://en.wikipedia.org/wiki/Seventh_Son_(film)  2015   \n",
       "\n",
       "                                  imdb_link              title  \\\n",
       "3816  https://www.imdb.com/title/tt0416320/        Match Point   \n",
       "2663  https://www.imdb.com/title/tt0171433/  Keeping the Faith   \n",
       "4191  https://www.imdb.com/title/tt0438315/   Peaceful Warrior   \n",
       "4837  https://www.imdb.com/title/tt1239427/    Brothers at War   \n",
       "6326  https://www.imdb.com/title/tt1121096/        Seventh Son   \n",
       "\n",
       "                                            Based on  \\\n",
       "3816                                             NaN   \n",
       "2663                                             NaN   \n",
       "4191  [Way of the Peaceful Warrior, by, Dan Millman]   \n",
       "4837                                             NaN   \n",
       "6326    [The Spook's Apprentice, by, Joseph Delaney]   \n",
       "\n",
       "                                               Starring  \\\n",
       "3816  [Brian Cox, Matthew Goode, Scarlett Johansson,...   \n",
       "2663  [Ben Stiller, Jenna Elfman, Edward Norton, Eli...   \n",
       "4191          [Scott Mechlowicz, Nick Nolte, Amy Smart]   \n",
       "4837  [Jake Rademacher, CPT, Isaac Rademacher, SGT, ...   \n",
       "6326  [Jeff Bridges, Ben Barnes, Alicia Vikander, Ki...   \n",
       "\n",
       "                    Cinematography  \\\n",
       "3816               Remi Adefarasin   \n",
       "2663             Anastas N. Michos   \n",
       "4191                  Sharone Meir   \n",
       "4837  [Marc Miller, Conor Colwell]   \n",
       "6326           Newton Thomas Sigel   \n",
       "\n",
       "                                                Country Language  \\\n",
       "3816  [United Kingdom, [2], United States, [2], Luxe...  English   \n",
       "2663                                      United States  English   \n",
       "4191                           [Germany, United States]  English   \n",
       "4837                                      United States  English   \n",
       "6326                                      United States  English   \n",
       "\n",
       "             Director  ...                              Editor(s)  \\\n",
       "3816      Woody Allen  ...                        Alisa Lepselter   \n",
       "2663    Edward Norton  ...                       Malcolm Campbell   \n",
       "4191     Victor Salva  ...                                Ed Marx   \n",
       "4837  Jake Rademacher  ...                          Robert DeMaio   \n",
       "6326    Sergei Bodrov  ...  [Paul Rubell, Jim Page, Michael Kahn]   \n",
       "\n",
       "          Composer(s)                                        Producer(s)  \\\n",
       "3816              NaN         [Letty Aronson, Gareth Wiley, Lucy Darwin]   \n",
       "2663  Elmer Bernstein        [Hawk Koch, Edward Norton, Stuart Blumberg]   \n",
       "4191   Bennett Salvay  [Robin Schorr, Mark Amin, David Welch, Cami Wi...   \n",
       "4837    Lee Holdridge  [Norman S. Powell, Jake Rademacher, Gary Sinis...   \n",
       "6326   Marco Beltrami         [Basil Iwanyk, Thomas Tull, Lionel Wigram]   \n",
       "\n",
       "                                  Production company(s)        Writer(s)  \\\n",
       "3816    [BBC Films, Thema Production, Jada Productions]      Woody Allen   \n",
       "2663  [Touchstone Pictures, Spyglass Entertainment, ...  Stuart Blumberg   \n",
       "4191                                    DEJ Productions  Kevin Bernhardt   \n",
       "4837                                                NaN              NaN   \n",
       "6326  [China Film Group, [2], Legendary Pictures, [2...   Matt Greenberg   \n",
       "\n",
       "        imdb_id   box_office      budget  release_date running_time  \n",
       "3816  tt0416320   85300000.0  15000000.0    2005-05-01        124.0  \n",
       "2663  tt0171433   59900000.0  29000000.0    2000-04-14        128.0  \n",
       "4191  tt0438315    4300000.0  10000000.0    2006-06-02        120.0  \n",
       "4837  tt1239427          NaN         NaN    2009-03-13        112.0  \n",
       "6326  tt1121096  114200000.0  95000000.0    2014-12-17        102.0  \n",
       "\n",
       "[5 rows x 21 columns]"
      ]
     },
     "execution_count": 19,
     "metadata": {},
     "output_type": "execute_result"
    }
   ],
   "source": [
    "wiki_movies_df.sample(5)"
   ]
  },
  {
   "cell_type": "code",
   "execution_count": 20,
   "id": "be8e0987",
   "metadata": {},
   "outputs": [],
   "source": [
    "# Clean up the kaggle dataset\n",
    "kaggle_metadata = kaggle_metadata[kaggle_metadata['adult'] == 'False'].drop('adult',axis='columns')\n",
    "kaggle_metadata['video'] = kaggle_metadata['video'] == 'True'\n",
    "kaggle_metadata['budget'] = kaggle_metadata['budget'].astype(int)\n",
    "kaggle_metadata['id'] = pd.to_numeric(kaggle_metadata['id'], errors='raise')\n",
    "kaggle_metadata['popularity'] = pd.to_numeric(kaggle_metadata['popularity'], errors='raise')\n",
    "kaggle_metadata['release_date'] = pd.to_datetime(kaggle_metadata['release_date'])"
   ]
  },
  {
   "cell_type": "code",
   "execution_count": 25,
   "id": "e9e8e1f0",
   "metadata": {
    "scrolled": true
   },
   "outputs": [],
   "source": [
    "# Clean the ratings dataset\n",
    "ratings['timestamp'] = pd.to_datetime(ratings['timestamp'], unit='s')"
   ]
  },
  {
   "cell_type": "code",
   "execution_count": 26,
   "id": "2d734c59",
   "metadata": {},
   "outputs": [
    {
     "data": {
      "text/plain": [
       "count          26,024,289.00\n",
       "mean                    3.53\n",
       "std                     1.07\n",
       "min                     0.50\n",
       "25%                     3.00\n",
       "50%                     3.50\n",
       "75%                     4.00\n",
       "max                     5.00\n",
       "Name: rating, dtype: float64"
      ]
     },
     "execution_count": 26,
     "metadata": {},
     "output_type": "execute_result"
    },
    {
     "data": {
      "image/png": "[encoded data removed]",
      "text/plain": [
       "<Figure size 432x288 with 1 Axes>"
      ]
     },
     "metadata": {
      "needs_background": "light"
     },
     "output_type": "display_data"
    }
   ],
   "source": [
    "pd.options.display.float_format = '{:20,.2f}'.format\n",
    "ratings['rating'].plot(kind='hist')\n",
    "ratings['rating'].describe()"
   ]
  },
  {
   "cell_type": "code",
   "execution_count": null,
   "id": "e0307880",
   "metadata": {},
   "outputs": [],
   "source": []
  }
 ],
 "metadata": {
  "kernelspec": {
   "display_name": "Python 3 (ipykernel)",
   "language": "python",
   "name": "python3"
  },
  "language_info": {
   "codemirror_mode": {
    "name": "ipython",
    "version": 3
   },
   "file_extension": ".py",
   "mimetype": "text/x-python",
   "name": "python",
   "nbconvert_exporter": "python",
   "pygments_lexer": "ipython3",
   "version": "3.9.12"
  }
 },
 "nbformat": 4,
 "nbformat_minor": 5
}
